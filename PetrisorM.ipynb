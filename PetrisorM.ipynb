{
 "metadata": {
  "name": ""
 },
 "nbformat": 3,
 "nbformat_minor": 0,
 "worksheets": [
  {
   "cells": [
    {
     "cell_type": "markdown",
     "metadata": {},
     "source": [
      "Prezentarea datelor si rezultatelor la Tema 1"
     ]
    },
    {
     "cell_type": "code",
     "collapsed": false,
     "input": [
      "%matplotlib inline\n",
      "import matplotlib.pyplot as plt\n",
      "import numpy as np"
     ],
     "language": "python",
     "metadata": {},
     "outputs": [],
     "prompt_number": 1
    },
    {
     "cell_type": "code",
     "collapsed": false,
     "input": [
      "linia0=open(\"MAB.txt\", \"r\").readlines()[0]       \n",
      " \n",
      "eps,K,N= map(float, linia0.split()) \n",
      "print 'eps=', eps, 'nr de aparate=', int(K), 'Numarul de runde=', int(N)"
     ],
     "language": "python",
     "metadata": {},
     "outputs": [
      {
       "output_type": "stream",
       "stream": "stdout",
       "text": [
        "eps= 0.1 nr de aparate= 5 Numarul de runde= 5000\n"
       ]
      }
     ],
     "prompt_number": 2
    },
    {
     "cell_type": "code",
     "collapsed": false,
     "input": [
      "linia1=open(\"MAB.txt\", \"r\").readlines()[1] \n",
      "probs=map(float, linia1.split()) \n",
      "print 'Probabilitatile de returnare', probs"
     ],
     "language": "python",
     "metadata": {},
     "outputs": [
      {
       "output_type": "stream",
       "stream": "stdout",
       "text": [
        "Probabilitatile de returnare [0.1, 0.8, 0.1, 0.2, 0.5]\n"
       ]
      }
     ],
     "prompt_number": 3
    },
    {
     "cell_type": "code",
     "collapsed": false,
     "input": [
      "linia2=open(\"MAB.txt\", \"r\").readlines()[2] \n",
      "nrselect=map(float, linia2.split()) \n",
      "print 'Nr de selectii ale fiecarui aparat', nrselect"
     ],
     "language": "python",
     "metadata": {},
     "outputs": [
      {
       "output_type": "stream",
       "stream": "stdout",
       "text": [
        "Nr de selectii ale fiecarui aparat [103.0, 4599.0, 103.0, 106.0, 89.0]\n"
       ]
      }
     ],
     "prompt_number": 4
    },
    {
     "cell_type": "code",
     "collapsed": false,
     "input": [
      "linia3=open(\"MAB.txt\", \"r\").readlines()[3] \n",
      "recmed=map(float, linia3.split()) \n",
      "print 'Recompensa medie la fiecare aparat', recmed"
     ],
     "language": "python",
     "metadata": {},
     "outputs": [
      {
       "output_type": "stream",
       "stream": "stdout",
       "text": [
        "Recompensa medie la fiecare aparat [0.14, 0.8, 0.1, 0.24, 0.42]\n"
       ]
      }
     ],
     "prompt_number": 5
    },
    {
     "cell_type": "code",
     "collapsed": false,
     "input": [
      "linii=open(\"MAB.txt\", \"r\").readlines()[4:] \n",
      "regret=[]\n",
      "for linie in linii:\n",
      "        regret.append(map(float, linie.split())) \n",
      "lung=len(regret)        \n",
      "        \n",
      "regret=np.array(regret).reshape(1, lung)  \n",
      "regret=np.squeeze(regret)\n",
      "plt.title('Regretul')\n",
      "plt.xlabel('Rundele')\n",
      "plt.ylabel('Valoare regret')\n",
      "plt.plot(regret, 'g') "
     ],
     "language": "python",
     "metadata": {},
     "outputs": [
      {
       "metadata": {},
       "output_type": "pyout",
       "prompt_number": 6,
       "text": [
        "[<matplotlib.lines.Line2D at 0x69b6d30>]"
       ]
      },
      {
       "metadata": {},
       "output_type": "display_data",
       "png": "[encoded data removed]",
       "text": [
        "<matplotlib.figure.Figure at 0x698b9d0>"
       ]
      }
     ],
     "prompt_number": 6
    }
   ],
   "metadata": {}
  }
 ]
}